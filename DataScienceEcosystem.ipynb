{
  "nbformat": 4,
  "nbformat_minor": 0,
  "metadata": {
    "colab": {
      "provenance": []
    },
    "kernelspec": {
      "name": "python3",
      "display_name": "Python 3"
    },
    "language_info": {
      "name": "python"
    }
  },
  "cells": [
    {
      "cell_type": "markdown",
      "source": [
        "# Data Science Tools and Ecosystem"
      ],
      "metadata": {
        "id": "DSmZ60ndmQeD"
      }
    },
    {
      "cell_type": "markdown",
      "source": [
        "In this notebook, Data Science Tools and Ecosystem are summarized."
      ],
      "metadata": {
        "id": "4igwxNOEoyjs"
      }
    },
    {
      "cell_type": "markdown",
      "source": [
        "Some of the popular languages that Data Scientists use are:\n",
        "\n",
        "1.   Python\n",
        "2.   R\n",
        "3.   SQL"
      ],
      "metadata": {
        "id": "kEm_t-njo6Eo"
      }
    },
    {
      "cell_type": "markdown",
      "source": [
        "Some of the commonly used libraries used by Data Scientists include:\n",
        "\n",
        "\n",
        "\n",
        "1.   numpy\n",
        "2.   pandas\n",
        "3.   sklearn\n",
        "4.   matplotlib"
      ],
      "metadata": {
        "id": "_Yf__q9gpO9V"
      }
    },
    {
      "cell_type": "markdown",
      "source": [
        "|Data Science Tools|\n",
        "|----------------|\n",
        "|BigML|\n",
        "|Apache Spark\t|\n",
        "|Jupyter Notebook|"
      ],
      "metadata": {
        "id": "Fi6DUMzPpfo5"
      }
    },
    {
      "cell_type": "markdown",
      "source": [
        "###  Below are a few examples of evaluating arithmetic expressions in Python\n",
        "\n"
      ],
      "metadata": {
        "id": "hdeXPVngvBRM"
      }
    },
    {
      "cell_type": "code",
      "source": [
        "#This a simple arithmetic expression to mutiply then add integers\n",
        "(3*4)+5"
      ],
      "metadata": {
        "colab": {
          "base_uri": "https://localhost:8080/"
        },
        "id": "dYyYJ3D3vP3k",
        "outputId": "00bd1f11-4e78-452d-96c5-a5a66e3b4607"
      },
      "execution_count": 1,
      "outputs": [
        {
          "output_type": "execute_result",
          "data": {
            "text/plain": [
              "17"
            ]
          },
          "metadata": {},
          "execution_count": 1
        }
      ]
    },
    {
      "cell_type": "code",
      "source": [
        "#This will convert 200 minutes to hours by diving by 60\n",
        "200/60"
      ],
      "metadata": {
        "colab": {
          "base_uri": "https://localhost:8080/"
        },
        "id": "mhX1IC56umGe",
        "outputId": "57246f06-a9b6-4b86-998b-a9e12013c9e7"
      },
      "execution_count": 2,
      "outputs": [
        {
          "output_type": "execute_result",
          "data": {
            "text/plain": [
              "3.3333333333333335"
            ]
          },
          "metadata": {},
          "execution_count": 2
        }
      ]
    },
    {
      "cell_type": "markdown",
      "source": [
        "**Objectives:**\n",
        "\n",
        "\n",
        "*   Python\n",
        "*   R\n",
        "\n",
        "*   numpy\n",
        "*   pandas\n",
        "\n",
        "*   matplotlib\n",
        "*   sklearn\n",
        "\n",
        "\n",
        "\n",
        "\n",
        "\n"
      ],
      "metadata": {
        "id": "NwN5mJVgvvRK"
      }
    },
    {
      "cell_type": "markdown",
      "source": [
        "## Author\n",
        "Soham Ravindra Chaudhari"
      ],
      "metadata": {
        "id": "szQpuUJPwQeG"
      }
    }
  ]
}